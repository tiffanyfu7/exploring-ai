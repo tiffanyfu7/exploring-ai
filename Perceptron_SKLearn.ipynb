{
  "nbformat": 4,
  "nbformat_minor": 0,
  "metadata": {
    "colab": {
      "name": "Perceptron-SKLearn.ipynb",
      "provenance": [],
      "collapsed_sections": []
    },
    "kernelspec": {
      "name": "python3",
      "display_name": "Python 3"
    },
    "language_info": {
      "name": "python"
    }
  },
  "cells": [
    {
      "cell_type": "code",
      "execution_count": 1,
      "metadata": {
        "colab": {
          "base_uri": "https://localhost:8080/"
        },
        "id": "2HxbT3QGLcJK",
        "outputId": "61ac3185-fc6d-4a8b-9b82-ad884628c112"
      },
      "outputs": [
        {
          "output_type": "stream",
          "name": "stdout",
          "text": [
            "[0 0 1 0]\n",
            "[[0.4 0.2]]\n",
            "[-0.4]\n"
          ]
        }
      ],
      "source": [
        "import numpy as np  # Import NumPy\n",
        "from sklearn.linear_model import Perceptron # Import Perceptron class from Scikit-Learn\n",
        "\n",
        "inputs = np.array([[0,0], [0,1], [1,0], [1,1]])  # Inputs\n",
        "outputs = np.array([0, 0, 0, 1])                 # Expected outputs\n",
        "\n",
        "# Create and fit a perceptron model\n",
        "# Set learning rate (eta0)\n",
        "model = Perceptron(eta0=0.2)\n",
        "model.fit(inputs, outputs)\n",
        "\n",
        "# Use the trained model to predict the outputs\n",
        "predicted_outputs = model.predict([[0,0], [1,0], [1,1], [0,1]])\n",
        "print(predicted_outputs) # Print the predicated outputs\n",
        "\n",
        "print(model.coef_)       # Print the final weights\n",
        "print(model.intercept_)  # Print the bias"
      ]
    },
    {
      "cell_type": "code",
      "source": [
        ""
      ],
      "metadata": {
        "id": "kjMHot4YL9QO"
      },
      "execution_count": null,
      "outputs": []
    }
  ]
}